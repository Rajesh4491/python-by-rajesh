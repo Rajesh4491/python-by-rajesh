{
  "nbformat": 4,
  "nbformat_minor": 0,
  "metadata": {
    "kernelspec": {
      "display_name": "Python 3",
      "language": "python",
      "name": "python3"
    },
    "language_info": {
      "codemirror_mode": {
        "name": "ipython",
        "version": 3
      },
      "file_extension": ".py",
      "mimetype": "text/x-python",
      "name": "python",
      "nbconvert_exporter": "python",
      "pygments_lexer": "ipython3",
      "version": "3.6.6"
    },
    "colab": {
      "name": "02-Functions.ipynb",
      "provenance": []
    }
  },
  "cells": [
    {
      "cell_type": "markdown",
      "metadata": {
        "id": "gM48f8qxIMwD"
      },
      "source": [
        "\n"
      ]
    },
    {
      "cell_type": "code",
      "metadata": {
        "id": "aCaDwxJcIV-c"
      },
      "source": [
        ""
      ],
      "execution_count": null,
      "outputs": []
    },
    {
      "cell_type": "markdown",
      "metadata": {
        "id": "aH-1_5veIMwF"
      },
      "source": [
        "# Functions\n",
        "\n",
        "## Introduction to Functions\n",
        "\n",
        "This lecture will consist of explaining what a function is in Python and how to create one. Functions will be one of our main building blocks when we construct larger and larger amounts of code to solve problems.\n",
        "\n",
        "### What is a function?\n",
        "\n",
        "Formally, a function is a useful device that groups together a set of statements so they can be run more than once. They can also let us specify parameters that can serve as inputs to the functions.\n",
        "\n",
        "On a more fundamental level, functions allow us to not have to repeatedly write the same code again and again. If you remember back to the lessons on strings and lists, remember that we used a function len() to get the length of a string. Since checking the length of a sequence is a common task you would want to write a function that can do this repeatedly at command.\n",
        "\n",
        "Functions will be one of most basic levels of reusing code in Python, and it will also allow us to start thinking of program design (we will dive much deeper into the ideas of design when we learn about Object Oriented Programming)."
      ]
    },
    {
      "cell_type": "markdown",
      "metadata": {
        "id": "9loTpqjZIMwG"
      },
      "source": [
        "### Why even use functions?\n",
        "\n",
        "Put simply, you should use functions when you plan on using a block of code multiple times. The function will allow you to call the same block of code without having to write it multiple times. This in turn will allow you to create more complex Python scripts. To really understand this though, we should actually write our own functions! "
      ]
    },
    {
      "cell_type": "markdown",
      "metadata": {
        "id": "MITR9MZOIMwI"
      },
      "source": [
        "## Function Topics\n",
        "* def keyword\n",
        "* simple example of a function\n",
        "* calling a function with ()\n",
        "* accepting parameters\n",
        "* print versus return\n",
        "* adding in logic inside a function\n",
        "* multiple returns inside a function\n",
        "* adding in loops inside a function\n",
        "* tuple unpacking\n",
        "* interactions between functions"
      ]
    },
    {
      "cell_type": "markdown",
      "metadata": {
        "id": "y9q9IRgIIMwJ"
      },
      "source": [
        "### def keyword\n",
        "\n",
        "Let's see how to build out a function's syntax in Python. It has the following form:"
      ]
    },
    {
      "cell_type": "code",
      "metadata": {
        "id": "1B5IyjqVIMwK"
      },
      "source": [
        "def name_of_function(arg1,arg2):\n",
        "    '''\n",
        "    This is where the function's Document String (docstring) goes.\n",
        "    When you call help() on your function it will be printed out.\n",
        "    '''\n",
        "    # Do stuff here\n",
        "    # Return desired result"
      ],
      "execution_count": null,
      "outputs": []
    },
    {
      "cell_type": "markdown",
      "metadata": {
        "id": "-wGM9Oc6IMwT"
      },
      "source": [
        "We begin with <code>def</code> then a space followed by the name of the function. Try to keep names relevant, for example len() is a good name for a length() function. Also be careful with names, you wouldn't want to call a function the same name as a [built-in function in Python](https://docs.python.org/3/library/functions.html) (such as len).\n",
        "\n",
        "Next come a pair of parentheses with a number of arguments separated by a comma. These arguments are the inputs for your function. You'll be able to use these inputs in your function and reference them. After this you put a colon.\n",
        "\n",
        "Now here is the important step, you must indent to begin the code inside your function correctly. Python makes use of *whitespace* to organize code. Lots of other programing languages do not do this, so keep that in mind.\n",
        "\n",
        "Next you'll see the docstring, this is where you write a basic description of the function. Using Jupyter and Jupyter Notebooks, you'll be able to read these docstrings by pressing Shift+Tab after a function name. Docstrings are not necessary for simple functions, but it's good practice to put them in so you or other people can easily understand the code you write.\n",
        "\n",
        "After all this you begin writing the code you wish to execute.\n",
        "\n",
        "The best way to learn functions is by going through examples. So let's try to go through examples that relate back to the various objects and data structures we learned about before."
      ]
    },
    {
      "cell_type": "markdown",
      "metadata": {
        "id": "sntx777VIMwU"
      },
      "source": [
        "### Simple example of a function"
      ]
    },
    {
      "cell_type": "code",
      "metadata": {
        "id": "PensGi3yIMwV"
      },
      "source": [
        "def say_hello():\n",
        "    print('hello')"
      ],
      "execution_count": null,
      "outputs": []
    },
    {
      "cell_type": "markdown",
      "metadata": {
        "id": "qs-mVBQsIMwc"
      },
      "source": [
        "### Calling a function with ()"
      ]
    },
    {
      "cell_type": "markdown",
      "metadata": {
        "id": "y_ezvE3kIMwd"
      },
      "source": [
        "Call the function:"
      ]
    },
    {
      "cell_type": "code",
      "metadata": {
        "id": "TaoTpHoCIMwe",
        "outputId": "bb98dab1-8b6b-4feb-9827-3f41df1f8cd7"
      },
      "source": [
        "say_hello()"
      ],
      "execution_count": null,
      "outputs": [
        {
          "output_type": "stream",
          "text": [
            "hello\n"
          ],
          "name": "stdout"
        }
      ]
    },
    {
      "cell_type": "markdown",
      "metadata": {
        "id": "O1YpbAFwIMwn"
      },
      "source": [
        "If you forget the parenthesis (), it will simply display the fact that say_hello is a function. Later on we will learn we can actually pass in functions into other functions! But for now, simply remember to call functions with ()."
      ]
    },
    {
      "cell_type": "code",
      "metadata": {
        "id": "BQsVoNrVIMwo",
        "outputId": "3ee1a19b-2c7f-4c5a-c28e-8b64067ab021"
      },
      "source": [
        "say_hello"
      ],
      "execution_count": null,
      "outputs": [
        {
          "output_type": "execute_result",
          "data": {
            "text/plain": [
              "<function __main__.say_hello>"
            ]
          },
          "metadata": {
            "tags": []
          },
          "execution_count": 7
        }
      ]
    },
    {
      "cell_type": "markdown",
      "metadata": {
        "id": "Xo8aSAL2IMwv"
      },
      "source": [
        "### Accepting parameters (arguments)\n",
        "Let's write a function that greets people with their name."
      ]
    },
    {
      "cell_type": "code",
      "metadata": {
        "id": "31-z4geDIMww"
      },
      "source": [
        "def greeting(name):\n",
        "    print(f'Hello {name}')"
      ],
      "execution_count": null,
      "outputs": []
    },
    {
      "cell_type": "code",
      "metadata": {
        "id": "QkWDay1iIMw3",
        "outputId": "44aa4551-86f3-4a2d-f2cc-1660e6a6b258"
      },
      "source": [
        "greeting('Jose')"
      ],
      "execution_count": null,
      "outputs": [
        {
          "output_type": "stream",
          "text": [
            "Hello Jose\n"
          ],
          "name": "stdout"
        }
      ]
    },
    {
      "cell_type": "markdown",
      "metadata": {
        "id": "XgHbTWzmIMw-"
      },
      "source": [
        "## Using return\n",
        "So far we've only seen print() used, but if we actually want to save the resulting variable we need to use the **return** keyword.\n",
        "\n",
        "Let's see some example that use a <code>return</code> statement. <code>return</code> allows a function to *return* a result that can then be stored as a variable, or used in whatever manner a user wants.\n",
        "\n",
        "### Example: Addition function"
      ]
    },
    {
      "cell_type": "code",
      "metadata": {
        "collapsed": true,
        "id": "_g6DVy0BIMxA"
      },
      "source": [
        "def add_num(num1,num2):\n",
        "    return num1+num2"
      ],
      "execution_count": null,
      "outputs": []
    },
    {
      "cell_type": "code",
      "metadata": {
        "id": "EYMxuBafIMxH",
        "outputId": "a4453f2d-e3e1-4064-a11e-bbd400d7f1e3"
      },
      "source": [
        "add_num(4,5)"
      ],
      "execution_count": null,
      "outputs": [
        {
          "output_type": "execute_result",
          "data": {
            "text/plain": [
              "9"
            ]
          },
          "metadata": {
            "tags": []
          },
          "execution_count": 7
        }
      ]
    },
    {
      "cell_type": "code",
      "metadata": {
        "collapsed": true,
        "id": "MpJke9saIMxO"
      },
      "source": [
        "# Can also save as variable due to return\n",
        "result = add_num(4,5)"
      ],
      "execution_count": null,
      "outputs": []
    },
    {
      "cell_type": "code",
      "metadata": {
        "id": "iDmxkHrkIMxV",
        "outputId": "ee4295c5-3f2e-4f90-e348-a128b7f53ac7"
      },
      "source": [
        "print(result)"
      ],
      "execution_count": null,
      "outputs": [
        {
          "output_type": "stream",
          "text": [
            "9\n"
          ],
          "name": "stdout"
        }
      ]
    },
    {
      "cell_type": "markdown",
      "metadata": {
        "id": "fXe9GzEnIMxb"
      },
      "source": [
        "What happens if we input two strings?"
      ]
    },
    {
      "cell_type": "code",
      "metadata": {
        "id": "x3r5RrvGIMxc",
        "outputId": "37f785dd-8aa1-4868-d0b5-cb7f5b8cd543"
      },
      "source": [
        "add_num('one','two')"
      ],
      "execution_count": null,
      "outputs": [
        {
          "output_type": "execute_result",
          "data": {
            "text/plain": [
              "'onetwo'"
            ]
          },
          "metadata": {
            "tags": []
          },
          "execution_count": 10
        }
      ]
    },
    {
      "cell_type": "markdown",
      "metadata": {
        "id": "6qg5n2PtIMxi"
      },
      "source": [
        "## Very Common Question: \"What is the difference between *return* and *print*?\"\n",
        "\n",
        "**The return keyword allows you to actually save the result of the output of a function as a variable. The print() function simply displays the output to you, but doesn't save it for future use. Let's explore this in more detail**"
      ]
    },
    {
      "cell_type": "code",
      "metadata": {
        "collapsed": true,
        "id": "gx-0inrYIMxk"
      },
      "source": [
        "def print_result(a,b):\n",
        "    print(a+b)"
      ],
      "execution_count": null,
      "outputs": []
    },
    {
      "cell_type": "code",
      "metadata": {
        "collapsed": true,
        "id": "ce5uGhDhIMxr"
      },
      "source": [
        "def return_result(a,b):\n",
        "    return a+b"
      ],
      "execution_count": null,
      "outputs": []
    },
    {
      "cell_type": "code",
      "metadata": {
        "id": "o2Vv6wE0IMxw",
        "outputId": "f162ff57-4710-4d44-c8c3-050b5b937523"
      },
      "source": [
        "print_result(10,5)"
      ],
      "execution_count": null,
      "outputs": [
        {
          "output_type": "stream",
          "text": [
            "15\n"
          ],
          "name": "stdout"
        }
      ]
    },
    {
      "cell_type": "code",
      "metadata": {
        "id": "cgTmyPpoIMx2",
        "outputId": "b728a160-28dd-42bd-c210-ad77b9efc5e4"
      },
      "source": [
        "# You won't see any output if you run this in a .py script\n",
        "return_result(10,5)"
      ],
      "execution_count": null,
      "outputs": [
        {
          "output_type": "execute_result",
          "data": {
            "text/plain": [
              "15"
            ]
          },
          "metadata": {
            "tags": []
          },
          "execution_count": 4
        }
      ]
    },
    {
      "cell_type": "markdown",
      "metadata": {
        "id": "FVSnEcvHIMx_"
      },
      "source": [
        "**But what happens if we actually want to save this result for later use?**"
      ]
    },
    {
      "cell_type": "code",
      "metadata": {
        "id": "XoXqbJpAIMyA",
        "outputId": "fda9db9e-5c84-4190-cc73-ef4a12abce05"
      },
      "source": [
        "my_result = print_result(20,20)"
      ],
      "execution_count": null,
      "outputs": [
        {
          "output_type": "stream",
          "text": [
            "40\n"
          ],
          "name": "stdout"
        }
      ]
    },
    {
      "cell_type": "code",
      "metadata": {
        "collapsed": true,
        "id": "sFirMJNbIMyG"
      },
      "source": [
        "my_result"
      ],
      "execution_count": null,
      "outputs": []
    },
    {
      "cell_type": "code",
      "metadata": {
        "id": "LIusvyj-IMyN",
        "outputId": "c3e192b9-f3ea-4b5e-e108-bd682d073e8f"
      },
      "source": [
        "type(my_result)"
      ],
      "execution_count": null,
      "outputs": [
        {
          "output_type": "execute_result",
          "data": {
            "text/plain": [
              "NoneType"
            ]
          },
          "metadata": {
            "tags": []
          },
          "execution_count": 7
        }
      ]
    },
    {
      "cell_type": "markdown",
      "metadata": {
        "id": "oH4fjl0xIMyT"
      },
      "source": [
        "**Be careful! Notice how print_result() doesn't let you actually save the result to a variable! It only prints it out, with print() returning None for the assignment!**"
      ]
    },
    {
      "cell_type": "code",
      "metadata": {
        "collapsed": true,
        "id": "g6TvkVxkIMyU"
      },
      "source": [
        "my_result = return_result(20,20)"
      ],
      "execution_count": null,
      "outputs": []
    },
    {
      "cell_type": "code",
      "metadata": {
        "id": "8TMIreg8IMyZ",
        "outputId": "e728bf0c-bfb7-4975-ac57-d045ca66bb6e"
      },
      "source": [
        "my_result"
      ],
      "execution_count": null,
      "outputs": [
        {
          "output_type": "execute_result",
          "data": {
            "text/plain": [
              "40"
            ]
          },
          "metadata": {
            "tags": []
          },
          "execution_count": 9
        }
      ]
    },
    {
      "cell_type": "code",
      "metadata": {
        "id": "zkEwCftBIMyg",
        "outputId": "e94be811-6d73-4c1d-e71f-792db6fa7813"
      },
      "source": [
        "my_result + my_result"
      ],
      "execution_count": null,
      "outputs": [
        {
          "output_type": "execute_result",
          "data": {
            "text/plain": [
              "80"
            ]
          },
          "metadata": {
            "tags": []
          },
          "execution_count": 10
        }
      ]
    },
    {
      "cell_type": "markdown",
      "metadata": {
        "id": "owCBlwTJIMyl"
      },
      "source": [
        "# Adding Logic to Internal Function Operations\n",
        "\n",
        "So far we know quite a bit about constructing logical statements with Python, such as if/else/elif statements, for and while loops, checking if an item is **in** a list or **not in** a list (Useful Operators Lecture). Let's now see how we can perform these operations within a function."
      ]
    },
    {
      "cell_type": "markdown",
      "metadata": {
        "id": "_IdEfRT9IMym"
      },
      "source": [
        "### Check if a number is even "
      ]
    },
    {
      "cell_type": "markdown",
      "metadata": {
        "id": "h9HY8pv7IMyn"
      },
      "source": [
        "**Recall the mod operator % which returns the remainder after division, if a number is even then mod 2 (% 2) should be == to zero.**"
      ]
    },
    {
      "cell_type": "code",
      "metadata": {
        "id": "a0piYyoKIMyo",
        "outputId": "d42c43e7-f54a-4438-f539-7158d9f53eeb"
      },
      "source": [
        "2 % 2"
      ],
      "execution_count": null,
      "outputs": [
        {
          "output_type": "execute_result",
          "data": {
            "text/plain": [
              "0"
            ]
          },
          "metadata": {
            "tags": []
          },
          "execution_count": 11
        }
      ]
    },
    {
      "cell_type": "code",
      "metadata": {
        "id": "RHrZrvjdIMy3",
        "outputId": "5edac7b1-0e9e-4c1e-b3a6-f258d0e1793c"
      },
      "source": [
        "20 % 2"
      ],
      "execution_count": null,
      "outputs": [
        {
          "output_type": "execute_result",
          "data": {
            "text/plain": [
              "0"
            ]
          },
          "metadata": {
            "tags": []
          },
          "execution_count": 12
        }
      ]
    },
    {
      "cell_type": "code",
      "metadata": {
        "id": "TNYMvurqIMy9",
        "outputId": "f9493901-8ef1-4de5-ec87-7572698af383"
      },
      "source": [
        "21 % 2"
      ],
      "execution_count": null,
      "outputs": [
        {
          "output_type": "execute_result",
          "data": {
            "text/plain": [
              "1"
            ]
          },
          "metadata": {
            "tags": []
          },
          "execution_count": 14
        }
      ]
    },
    {
      "cell_type": "code",
      "metadata": {
        "id": "ltLPhvl4IMzD",
        "outputId": "540edc1f-b8b0-4649-b673-0951993ef588"
      },
      "source": [
        "20 % 2 == 0"
      ],
      "execution_count": null,
      "outputs": [
        {
          "output_type": "execute_result",
          "data": {
            "text/plain": [
              "True"
            ]
          },
          "metadata": {
            "tags": []
          },
          "execution_count": 15
        }
      ]
    },
    {
      "cell_type": "code",
      "metadata": {
        "id": "RREvIph_IMzH",
        "outputId": "572c48cf-dcba-42d7-8f3a-04ab18836aa0"
      },
      "source": [
        "21 % 2 == 0"
      ],
      "execution_count": null,
      "outputs": [
        {
          "output_type": "execute_result",
          "data": {
            "text/plain": [
              "False"
            ]
          },
          "metadata": {
            "tags": []
          },
          "execution_count": 16
        }
      ]
    },
    {
      "cell_type": "markdown",
      "metadata": {
        "id": "EcDni1B-IMzM"
      },
      "source": [
        "** Let's use this to construct a function. Notice how we simply return the boolean check.**"
      ]
    },
    {
      "cell_type": "code",
      "metadata": {
        "collapsed": true,
        "id": "3AbHAaZCIMzN"
      },
      "source": [
        "def even_check(number):\n",
        "    return number % 2 == 0"
      ],
      "execution_count": null,
      "outputs": []
    },
    {
      "cell_type": "code",
      "metadata": {
        "id": "-rhjld3eIMzU",
        "outputId": "563ea9e3-d472-4e1c-c20a-f161ec51d867"
      },
      "source": [
        "even_check(20)"
      ],
      "execution_count": null,
      "outputs": [
        {
          "output_type": "execute_result",
          "data": {
            "text/plain": [
              "True"
            ]
          },
          "metadata": {
            "tags": []
          },
          "execution_count": 19
        }
      ]
    },
    {
      "cell_type": "code",
      "metadata": {
        "id": "3IH1nUHkIMzZ",
        "outputId": "d22caf7e-6d6e-47dc-d735-baebcae118e8"
      },
      "source": [
        "even_check(21)"
      ],
      "execution_count": null,
      "outputs": [
        {
          "output_type": "execute_result",
          "data": {
            "text/plain": [
              "False"
            ]
          },
          "metadata": {
            "tags": []
          },
          "execution_count": 21
        }
      ]
    },
    {
      "cell_type": "markdown",
      "metadata": {
        "id": "uZgj2p6iIMzf"
      },
      "source": [
        "### Check if any number in  a list is even\n",
        "\n",
        "Let's return a boolean indicating if **any** number in a list is even. Notice here how **return** breaks out of the loop and exits the function"
      ]
    },
    {
      "cell_type": "code",
      "metadata": {
        "collapsed": true,
        "id": "3EHsLRhzIMzg"
      },
      "source": [
        "def check_even_list(num_list):\n",
        "    # Go through each number\n",
        "    for number in num_list:\n",
        "        # Once we get a \"hit\" on an even number, we return True\n",
        "        if number % 2 == 0:\n",
        "            return True\n",
        "        # Otherwise we don't do anything\n",
        "        else:\n",
        "            pass"
      ],
      "execution_count": null,
      "outputs": []
    },
    {
      "cell_type": "markdown",
      "metadata": {
        "id": "-0tCeYJvIMzm"
      },
      "source": [
        "** Is this enough? NO! We're not returning anything if they are all odds!**"
      ]
    },
    {
      "cell_type": "code",
      "metadata": {
        "id": "vUEzLEWTIMzn",
        "outputId": "b22e3bd7-e119-44c6-839b-d258ac573db6"
      },
      "source": [
        "check_even_list([1,2,3])"
      ],
      "execution_count": null,
      "outputs": [
        {
          "output_type": "execute_result",
          "data": {
            "text/plain": [
              "True"
            ]
          },
          "metadata": {
            "tags": []
          },
          "execution_count": 26
        }
      ]
    },
    {
      "cell_type": "code",
      "metadata": {
        "collapsed": true,
        "id": "bpFIwBd0IMzt"
      },
      "source": [
        "check_even_list([1,1,1])"
      ],
      "execution_count": null,
      "outputs": []
    },
    {
      "cell_type": "markdown",
      "metadata": {
        "id": "q5lqr5H7IMz0"
      },
      "source": [
        "** VERY COMMON MISTAKE!! LET'S SEE A COMMON LOGIC ERROR, NOTE THIS IS WRONG!!!**"
      ]
    },
    {
      "cell_type": "code",
      "metadata": {
        "collapsed": true,
        "id": "_a3ZuBVLIMz1"
      },
      "source": [
        "def check_even_list(num_list):\n",
        "    # Go through each number\n",
        "    for number in num_list:\n",
        "        # Once we get a \"hit\" on an even number, we return True\n",
        "        if number % 2 == 0:\n",
        "            return True\n",
        "        # This is WRONG! This returns False at the very first odd number!\n",
        "        # It doesn't end up checking the other numbers in the list!\n",
        "        else:\n",
        "            return False"
      ],
      "execution_count": null,
      "outputs": []
    },
    {
      "cell_type": "code",
      "metadata": {
        "id": "1Swam5dDIMz6",
        "outputId": "e7e58dbf-0b9c-4f19-84a9-eddab4daea30"
      },
      "source": [
        "# UH OH! It is returning False after hitting the first 1\n",
        "check_even_list([1,2,3])"
      ],
      "execution_count": null,
      "outputs": [
        {
          "output_type": "execute_result",
          "data": {
            "text/plain": [
              "False"
            ]
          },
          "metadata": {
            "tags": []
          },
          "execution_count": 30
        }
      ]
    },
    {
      "cell_type": "markdown",
      "metadata": {
        "id": "F7asBR09IM0A"
      },
      "source": [
        "** Correct Approach: We need to initiate a return False AFTER running through the entire loop**"
      ]
    },
    {
      "cell_type": "code",
      "metadata": {
        "collapsed": true,
        "id": "jgrMYGjkIM0B"
      },
      "source": [
        "def check_even_list(num_list):\n",
        "    # Go through each number\n",
        "    for number in num_list:\n",
        "        # Once we get a \"hit\" on an even number, we return True\n",
        "        if number % 2 == 0:\n",
        "            return True\n",
        "        # Don't do anything if its not even\n",
        "        else:\n",
        "            pass\n",
        "    # Notice the indentation! This ensures we run through the entire for loop    \n",
        "    return False"
      ],
      "execution_count": null,
      "outputs": []
    },
    {
      "cell_type": "code",
      "metadata": {
        "id": "lvOAugdoIM0I",
        "outputId": "0927a518-6855-43dd-c1b7-5ee143f1eedb"
      },
      "source": [
        "check_even_list([1,2,3])"
      ],
      "execution_count": null,
      "outputs": [
        {
          "output_type": "execute_result",
          "data": {
            "text/plain": [
              "True"
            ]
          },
          "metadata": {
            "tags": []
          },
          "execution_count": 32
        }
      ]
    },
    {
      "cell_type": "code",
      "metadata": {
        "id": "u0qKO3PoIM0Q",
        "outputId": "ea30f4a0-083c-4456-d491-baaf76cd9196"
      },
      "source": [
        "check_even_list([1,3,5])"
      ],
      "execution_count": null,
      "outputs": [
        {
          "output_type": "execute_result",
          "data": {
            "text/plain": [
              "False"
            ]
          },
          "metadata": {
            "tags": []
          },
          "execution_count": 34
        }
      ]
    },
    {
      "cell_type": "markdown",
      "metadata": {
        "id": "UU8qcf2VIM0T"
      },
      "source": [
        "### Return all even numbers in a list\n",
        "\n",
        "Let's add more complexity, we now will return all the even numbers in a list, otherwise return an empty list."
      ]
    },
    {
      "cell_type": "code",
      "metadata": {
        "collapsed": true,
        "id": "kN_j_DCeIM0U"
      },
      "source": [
        "def check_even_list(num_list):\n",
        "    \n",
        "    even_numbers = []\n",
        "    \n",
        "    # Go through each number\n",
        "    for number in num_list:\n",
        "        # Once we get a \"hit\" on an even number, we append the even number\n",
        "        if number % 2 == 0:\n",
        "            even_numbers.append(number)\n",
        "        # Don't do anything if its not even\n",
        "        else:\n",
        "            pass\n",
        "    # Notice the indentation! This ensures we run through the entire for loop    \n",
        "    return even_numbers"
      ],
      "execution_count": null,
      "outputs": []
    },
    {
      "cell_type": "code",
      "metadata": {
        "id": "--dU0nhqIM0a",
        "outputId": "4fd723f0-0f2d-4eeb-a15c-216b94ff24a3"
      },
      "source": [
        "check_even_list([1,2,3,4,5,6])"
      ],
      "execution_count": null,
      "outputs": [
        {
          "output_type": "execute_result",
          "data": {
            "text/plain": [
              "[2, 4, 6]"
            ]
          },
          "metadata": {
            "tags": []
          },
          "execution_count": 36
        }
      ]
    },
    {
      "cell_type": "code",
      "metadata": {
        "id": "aFy_j-HcIM0e",
        "outputId": "b89d7dc4-a17e-406c-989d-26e4367cf0b3"
      },
      "source": [
        "check_even_list([1,3,5])"
      ],
      "execution_count": null,
      "outputs": [
        {
          "output_type": "execute_result",
          "data": {
            "text/plain": [
              "[]"
            ]
          },
          "metadata": {
            "tags": []
          },
          "execution_count": 37
        }
      ]
    },
    {
      "cell_type": "markdown",
      "metadata": {
        "id": "hVK2JzIhIM0i"
      },
      "source": [
        "## Returning Tuples for Unpacking"
      ]
    },
    {
      "cell_type": "markdown",
      "metadata": {
        "id": "6GelN-pMIM0i"
      },
      "source": [
        "** Recall we can loop through a list of tuples and \"unpack\" the values within them**"
      ]
    },
    {
      "cell_type": "code",
      "metadata": {
        "collapsed": true,
        "id": "oqHgNxgmIM0j"
      },
      "source": [
        "stock_prices = [('AAPL',200),('GOOG',300),('MSFT',400)]"
      ],
      "execution_count": null,
      "outputs": []
    },
    {
      "cell_type": "code",
      "metadata": {
        "id": "UsokqiTkIM0n",
        "outputId": "42d1967c-fdaf-43e7-d6d3-a934c2eb31af"
      },
      "source": [
        "for item in stock_prices:\n",
        "    print(item)"
      ],
      "execution_count": null,
      "outputs": [
        {
          "output_type": "stream",
          "text": [
            "('AAPL', 200)\n",
            "('GOOG', 300)\n",
            "('MSFT', 400)\n"
          ],
          "name": "stdout"
        }
      ]
    },
    {
      "cell_type": "code",
      "metadata": {
        "id": "ldOjg3AKIM0r",
        "outputId": "c01f2940-5800-48c3-9f70-eef2402594ca"
      },
      "source": [
        "for stock,price in stock_prices:\n",
        "    print(stock)"
      ],
      "execution_count": null,
      "outputs": [
        {
          "output_type": "stream",
          "text": [
            "AAPL\n",
            "GOOG\n",
            "MSFT\n"
          ],
          "name": "stdout"
        }
      ]
    },
    {
      "cell_type": "code",
      "metadata": {
        "id": "xzquS8TrIM0x",
        "outputId": "d3d8b82f-2c6f-4c84-f3c3-440d23f2ee8a"
      },
      "source": [
        "for stock,price in stock_prices:\n",
        "    print(price)"
      ],
      "execution_count": null,
      "outputs": [
        {
          "output_type": "stream",
          "text": [
            "200\n",
            "300\n",
            "400\n"
          ],
          "name": "stdout"
        }
      ]
    },
    {
      "cell_type": "markdown",
      "metadata": {
        "id": "PSm4iEmAIM00"
      },
      "source": [
        "**Similarly, functions often return tuples, to easily return multiple results for later use.**"
      ]
    },
    {
      "cell_type": "markdown",
      "metadata": {
        "id": "Nlo0h23CIM00"
      },
      "source": [
        "Let's imagine the following list:"
      ]
    },
    {
      "cell_type": "code",
      "metadata": {
        "collapsed": true,
        "id": "bma4nwr4IM01"
      },
      "source": [
        "work_hours = [('Abby',100),('Billy',400),('Cassie',800)]"
      ],
      "execution_count": null,
      "outputs": []
    },
    {
      "cell_type": "markdown",
      "metadata": {
        "id": "2FrrWfozIM03"
      },
      "source": [
        "The employee of the month function will return both the name and number of hours worked for the top performer (judged by number of hours worked)."
      ]
    },
    {
      "cell_type": "code",
      "metadata": {
        "collapsed": true,
        "id": "xuxrkZ_rIM04"
      },
      "source": [
        "def employee_check(work_hours):\n",
        "    \n",
        "    # Set some max value to intially beat, like zero hours\n",
        "    current_max = 0\n",
        "    # Set some empty value before the loop\n",
        "    employee_of_month = ''\n",
        "    \n",
        "    for employee,hours in work_hours:\n",
        "        if hours > current_max:\n",
        "            current_max = hours\n",
        "            employee_of_month = employee\n",
        "        else:\n",
        "            pass\n",
        "    \n",
        "    # Notice the indentation here\n",
        "    return (employee_of_month,current_max)"
      ],
      "execution_count": null,
      "outputs": []
    },
    {
      "cell_type": "code",
      "metadata": {
        "id": "_MMbUxXOIM09",
        "outputId": "5937dd1d-a44f-4734-c50b-5cf20c378202"
      },
      "source": [
        "employee_check(work_hours)"
      ],
      "execution_count": null,
      "outputs": [
        {
          "output_type": "execute_result",
          "data": {
            "text/plain": [
              "('Cassie', 800)"
            ]
          },
          "metadata": {
            "tags": []
          },
          "execution_count": 48
        }
      ]
    },
    {
      "cell_type": "markdown",
      "metadata": {
        "id": "veEv4RpLIM1A"
      },
      "source": [
        "## Interactions between functions\n",
        "\n",
        "Functions often use results from other functions, let's see a simple example through a guessing game. There will be 3 positions in the list, one of which is an 'O', a function will shuffle the list, another will take a player's guess, and finally another will check to see if it is correct. This is based on the classic carnival game of guessing which cup a red ball is under."
      ]
    },
    {
      "cell_type": "markdown",
      "metadata": {
        "id": "5tyEpfiOIM1C"
      },
      "source": [
        "**How to shuffle a list in Python**"
      ]
    },
    {
      "cell_type": "code",
      "metadata": {
        "collapsed": true,
        "id": "y-AqUBQ0IM1D"
      },
      "source": [
        "example = [1,2,3,4,5]"
      ],
      "execution_count": null,
      "outputs": []
    },
    {
      "cell_type": "code",
      "metadata": {
        "collapsed": true,
        "id": "ONjYldGxIM1F"
      },
      "source": [
        "from random import shuffle"
      ],
      "execution_count": null,
      "outputs": []
    },
    {
      "cell_type": "code",
      "metadata": {
        "collapsed": true,
        "id": "Vowp6EWHIM1I"
      },
      "source": [
        "# Note shuffle is in-place\n",
        "shuffle(example)"
      ],
      "execution_count": null,
      "outputs": []
    },
    {
      "cell_type": "code",
      "metadata": {
        "id": "z_eYqDpDIM1M",
        "outputId": "e75fdf15-c1f5-4c9c-bbfb-52e2361e39bb"
      },
      "source": [
        "example"
      ],
      "execution_count": null,
      "outputs": [
        {
          "output_type": "execute_result",
          "data": {
            "text/plain": [
              "[3, 1, 4, 5, 2]"
            ]
          },
          "metadata": {
            "tags": []
          },
          "execution_count": 11
        }
      ]
    },
    {
      "cell_type": "markdown",
      "metadata": {
        "id": "MK0cLfC9IM1P"
      },
      "source": [
        "**OK, let's create our simple game**"
      ]
    },
    {
      "cell_type": "code",
      "metadata": {
        "collapsed": true,
        "id": "fgD8zKKZIM1P"
      },
      "source": [
        "mylist = [' ','O',' ']"
      ],
      "execution_count": null,
      "outputs": []
    },
    {
      "cell_type": "code",
      "metadata": {
        "collapsed": true,
        "id": "XY7WaJQNIM1T"
      },
      "source": [
        "def shuffle_list(mylist):\n",
        "    # Take in list, and returned shuffle versioned\n",
        "    shuffle(mylist)\n",
        "    \n",
        "    return mylist"
      ],
      "execution_count": null,
      "outputs": []
    },
    {
      "cell_type": "code",
      "metadata": {
        "id": "IvxaB49PIM1W",
        "outputId": "ec73d47c-209d-44ba-9d9c-2b62b519014c"
      },
      "source": [
        "mylist "
      ],
      "execution_count": null,
      "outputs": [
        {
          "output_type": "execute_result",
          "data": {
            "text/plain": [
              "[' ', 'O', ' ']"
            ]
          },
          "metadata": {
            "tags": []
          },
          "execution_count": 14
        }
      ]
    },
    {
      "cell_type": "code",
      "metadata": {
        "id": "P1paP97DIM1a",
        "outputId": "0d2d0c02-a569-466f-e07e-6b9352b1147f"
      },
      "source": [
        "shuffle_list(mylist)"
      ],
      "execution_count": null,
      "outputs": [
        {
          "output_type": "execute_result",
          "data": {
            "text/plain": [
              "[' ', ' ', 'O']"
            ]
          },
          "metadata": {
            "tags": []
          },
          "execution_count": 15
        }
      ]
    },
    {
      "cell_type": "code",
      "metadata": {
        "collapsed": true,
        "id": "2vncJVjhIM1g"
      },
      "source": [
        "def player_guess():\n",
        "    \n",
        "    guess = ''\n",
        "    \n",
        "    while guess not in ['0','1','2']:\n",
        "        \n",
        "        # Recall input() returns a string\n",
        "        guess = input(\"Pick a number: 0, 1, or 2:  \")\n",
        "    \n",
        "    return int(guess)    "
      ],
      "execution_count": null,
      "outputs": []
    },
    {
      "cell_type": "code",
      "metadata": {
        "id": "ITRA4tDiIM1k",
        "outputId": "7e910b06-088b-4e50-f780-6d5ba57efeea"
      },
      "source": [
        "player_guess()"
      ],
      "execution_count": null,
      "outputs": [
        {
          "output_type": "stream",
          "text": [
            "Pick a number: 0, 1, or 2:  1\n"
          ],
          "name": "stdout"
        },
        {
          "output_type": "execute_result",
          "data": {
            "text/plain": [
              "1"
            ]
          },
          "metadata": {
            "tags": []
          },
          "execution_count": 24
        }
      ]
    },
    {
      "cell_type": "markdown",
      "metadata": {
        "id": "v9n5gTuxIM1o"
      },
      "source": [
        "Now we will check the user's guess. Notice we only print here, since we have no need to save a user's guess or the shuffled list."
      ]
    },
    {
      "cell_type": "code",
      "metadata": {
        "collapsed": true,
        "id": "AFlUCfUrIM1o"
      },
      "source": [
        "def check_guess(mylist,guess):\n",
        "    if mylist[guess] == 'O':\n",
        "        print('Correct Guess!')\n",
        "    else:\n",
        "        print('Wrong! Better luck next time')\n",
        "        print(mylist)"
      ],
      "execution_count": null,
      "outputs": []
    },
    {
      "cell_type": "markdown",
      "metadata": {
        "id": "9sDJUeC2IM1q"
      },
      "source": [
        "Now we create a little setup logic to run all the functions. Notice how they interact with each other!"
      ]
    },
    {
      "cell_type": "code",
      "metadata": {
        "id": "ZLJ_MrurIM1r",
        "outputId": "849f1a23-6822-4785-ce7a-e00651d5441f"
      },
      "source": [
        "# Initial List\n",
        "mylist = [' ','O',' ']\n",
        "\n",
        "# Shuffle It\n",
        "mixedup_list = shuffle_list(mylist)\n",
        "\n",
        "# Get User's Guess\n",
        "guess = player_guess()\n",
        "\n",
        "# Check User's Guess\n",
        "#------------------------\n",
        "# Notice how this function takes in the input \n",
        "# based on the output of other functions!\n",
        "check_guess(mixedup_list,guess)"
      ],
      "execution_count": null,
      "outputs": [
        {
          "output_type": "stream",
          "text": [
            "Pick a number: 0, 1, or 2:  1\n",
            "Wrong! Better luck next time\n",
            "[' ', ' ', 'O']\n"
          ],
          "name": "stdout"
        }
      ]
    },
    {
      "cell_type": "markdown",
      "metadata": {
        "id": "FWYptrpLIM1t"
      },
      "source": [
        "Great! You should now have a basic understanding of creating your own functions to save yourself from repeatedly writing code!"
      ]
    }
  ]
}